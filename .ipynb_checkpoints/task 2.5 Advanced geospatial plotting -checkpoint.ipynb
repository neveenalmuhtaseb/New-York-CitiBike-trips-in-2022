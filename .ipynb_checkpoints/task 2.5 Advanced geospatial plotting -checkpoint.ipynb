{
 "cells": [
  {
   "cell_type": "markdown",
   "id": "4610c53d-2674-42f1-9b61-36dd0b7ac37a",
   "metadata": {},
   "source": [
    "# task 2.5 Advanced geospatial plotting "
   ]
  },
  {
   "cell_type": "code",
   "execution_count": 69,
   "id": "29165bf8",
   "metadata": {
    "tags": []
   },
   "outputs": [],
   "source": [
    "import pandas as pd\n",
    "import os\n",
    "from keplergl import KeplerGl\n",
    "from pyproj import CRS\n",
    "import numpy as np\n",
    "from matplotlib import pyplot as plt "
   ]
  },
  {
   "cell_type": "code",
   "execution_count": 70,
   "id": "06154e1a-b4e1-4cb3-b393-211532f2b182",
   "metadata": {},
   "outputs": [],
   "source": [
    "df = pd.read_csv(r'/Users/yasersouri/Desktop/newyork_Data/NewYork_CitiBike_data2.csv', index_col = 0)"
   ]
  },
  {
   "cell_type": "code",
   "execution_count": 36,
   "id": "8b03acf5-3607-43f0-bf4a-5bd67254f12f",
   "metadata": {},
   "outputs": [
    {
     "data": {
      "text/html": [
       "<div>\n",
       "<style scoped>\n",
       "    .dataframe tbody tr th:only-of-type {\n",
       "        vertical-align: middle;\n",
       "    }\n",
       "\n",
       "    .dataframe tbody tr th {\n",
       "        vertical-align: top;\n",
       "    }\n",
       "\n",
       "    .dataframe thead th {\n",
       "        text-align: right;\n",
       "    }\n",
       "</style>\n",
       "<table border=\"1\" class=\"dataframe\">\n",
       "  <thead>\n",
       "    <tr style=\"text-align: right;\">\n",
       "      <th></th>\n",
       "      <th>ride_id</th>\n",
       "      <th>rideable_type</th>\n",
       "      <th>started_at</th>\n",
       "      <th>ended_at</th>\n",
       "      <th>start_station_name</th>\n",
       "      <th>start_station_id</th>\n",
       "      <th>end_station_name</th>\n",
       "      <th>end_station_id</th>\n",
       "      <th>start_lat</th>\n",
       "      <th>start_lng</th>\n",
       "      <th>end_lat</th>\n",
       "      <th>end_lng</th>\n",
       "      <th>member_casual</th>\n",
       "      <th>date</th>\n",
       "      <th>avgTemp</th>\n",
       "      <th>bike_rides_daily</th>\n",
       "      <th>_merge</th>\n",
       "      <th>tripduration</th>\n",
       "    </tr>\n",
       "  </thead>\n",
       "  <tbody>\n",
       "    <tr>\n",
       "      <th>0</th>\n",
       "      <td>3255D3E3F33CDC45</td>\n",
       "      <td>classic_bike</td>\n",
       "      <td>2022-03-18 15:38:17</td>\n",
       "      <td>2022-03-18 15:45:34</td>\n",
       "      <td>Mama Johnson Field - 4 St &amp; Jackson St</td>\n",
       "      <td>HB404</td>\n",
       "      <td>South Waterfront Walkway - Sinatra Dr &amp; 1 St</td>\n",
       "      <td>HB103</td>\n",
       "      <td>40.743140</td>\n",
       "      <td>-74.040041</td>\n",
       "      <td>40.736982</td>\n",
       "      <td>-74.027781</td>\n",
       "      <td>casual</td>\n",
       "      <td>2022-03-18</td>\n",
       "      <td>7.0</td>\n",
       "      <td>2728</td>\n",
       "      <td>both</td>\n",
       "      <td>7.283333</td>\n",
       "    </tr>\n",
       "    <tr>\n",
       "      <th>1</th>\n",
       "      <td>8E92B0B967ECF754</td>\n",
       "      <td>electric_bike</td>\n",
       "      <td>2022-03-18 05:51:04</td>\n",
       "      <td>2022-03-18 05:56:25</td>\n",
       "      <td>Baldwin at Montgomery</td>\n",
       "      <td>JC020</td>\n",
       "      <td>Grove St PATH</td>\n",
       "      <td>JC005</td>\n",
       "      <td>40.723659</td>\n",
       "      <td>-74.064194</td>\n",
       "      <td>40.719586</td>\n",
       "      <td>-74.043117</td>\n",
       "      <td>member</td>\n",
       "      <td>2022-03-18</td>\n",
       "      <td>7.0</td>\n",
       "      <td>2728</td>\n",
       "      <td>both</td>\n",
       "      <td>5.350000</td>\n",
       "    </tr>\n",
       "    <tr>\n",
       "      <th>2</th>\n",
       "      <td>6F9990AAD7CEBFF9</td>\n",
       "      <td>electric_bike</td>\n",
       "      <td>2022-03-18 12:27:55</td>\n",
       "      <td>2022-03-18 13:08:12</td>\n",
       "      <td>Journal Square</td>\n",
       "      <td>JC103</td>\n",
       "      <td>Grove St PATH</td>\n",
       "      <td>JC005</td>\n",
       "      <td>40.733670</td>\n",
       "      <td>-74.062500</td>\n",
       "      <td>40.719586</td>\n",
       "      <td>-74.043117</td>\n",
       "      <td>member</td>\n",
       "      <td>2022-03-18</td>\n",
       "      <td>7.0</td>\n",
       "      <td>2728</td>\n",
       "      <td>both</td>\n",
       "      <td>40.283333</td>\n",
       "    </tr>\n",
       "    <tr>\n",
       "      <th>3</th>\n",
       "      <td>F66AFB6A236BF68B</td>\n",
       "      <td>electric_bike</td>\n",
       "      <td>2022-03-18 11:55:18</td>\n",
       "      <td>2022-03-18 12:08:20</td>\n",
       "      <td>14 St Ferry - 14 St &amp; Shipyard Ln</td>\n",
       "      <td>HB202</td>\n",
       "      <td>South Waterfront Walkway - Sinatra Dr &amp; 1 St</td>\n",
       "      <td>HB103</td>\n",
       "      <td>40.752961</td>\n",
       "      <td>-74.024353</td>\n",
       "      <td>40.736982</td>\n",
       "      <td>-74.027781</td>\n",
       "      <td>member</td>\n",
       "      <td>2022-03-18</td>\n",
       "      <td>7.0</td>\n",
       "      <td>2728</td>\n",
       "      <td>both</td>\n",
       "      <td>13.033333</td>\n",
       "    </tr>\n",
       "    <tr>\n",
       "      <th>4</th>\n",
       "      <td>3D9ADA1A29319CCE</td>\n",
       "      <td>classic_bike</td>\n",
       "      <td>2022-03-18 18:41:03</td>\n",
       "      <td>2022-03-18 19:01:42</td>\n",
       "      <td>14 St Ferry - 14 St &amp; Shipyard Ln</td>\n",
       "      <td>HB202</td>\n",
       "      <td>Columbus Drive</td>\n",
       "      <td>JC014</td>\n",
       "      <td>40.752961</td>\n",
       "      <td>-74.024353</td>\n",
       "      <td>40.718355</td>\n",
       "      <td>-74.038914</td>\n",
       "      <td>member</td>\n",
       "      <td>2022-03-18</td>\n",
       "      <td>7.0</td>\n",
       "      <td>2728</td>\n",
       "      <td>both</td>\n",
       "      <td>20.650000</td>\n",
       "    </tr>\n",
       "  </tbody>\n",
       "</table>\n",
       "</div>"
      ],
      "text/plain": [
       "            ride_id  rideable_type           started_at             ended_at  \\\n",
       "0  3255D3E3F33CDC45   classic_bike  2022-03-18 15:38:17  2022-03-18 15:45:34   \n",
       "1  8E92B0B967ECF754  electric_bike  2022-03-18 05:51:04  2022-03-18 05:56:25   \n",
       "2  6F9990AAD7CEBFF9  electric_bike  2022-03-18 12:27:55  2022-03-18 13:08:12   \n",
       "3  F66AFB6A236BF68B  electric_bike  2022-03-18 11:55:18  2022-03-18 12:08:20   \n",
       "4  3D9ADA1A29319CCE   classic_bike  2022-03-18 18:41:03  2022-03-18 19:01:42   \n",
       "\n",
       "                       start_station_name start_station_id  \\\n",
       "0  Mama Johnson Field - 4 St & Jackson St            HB404   \n",
       "1                   Baldwin at Montgomery            JC020   \n",
       "2                          Journal Square            JC103   \n",
       "3       14 St Ferry - 14 St & Shipyard Ln            HB202   \n",
       "4       14 St Ferry - 14 St & Shipyard Ln            HB202   \n",
       "\n",
       "                               end_station_name end_station_id  start_lat  \\\n",
       "0  South Waterfront Walkway - Sinatra Dr & 1 St          HB103  40.743140   \n",
       "1                                 Grove St PATH          JC005  40.723659   \n",
       "2                                 Grove St PATH          JC005  40.733670   \n",
       "3  South Waterfront Walkway - Sinatra Dr & 1 St          HB103  40.752961   \n",
       "4                                Columbus Drive          JC014  40.752961   \n",
       "\n",
       "   start_lng    end_lat    end_lng member_casual        date  avgTemp  \\\n",
       "0 -74.040041  40.736982 -74.027781        casual  2022-03-18      7.0   \n",
       "1 -74.064194  40.719586 -74.043117        member  2022-03-18      7.0   \n",
       "2 -74.062500  40.719586 -74.043117        member  2022-03-18      7.0   \n",
       "3 -74.024353  40.736982 -74.027781        member  2022-03-18      7.0   \n",
       "4 -74.024353  40.718355 -74.038914        member  2022-03-18      7.0   \n",
       "\n",
       "   bike_rides_daily _merge  tripduration  \n",
       "0              2728   both      7.283333  \n",
       "1              2728   both      5.350000  \n",
       "2              2728   both     40.283333  \n",
       "3              2728   both     13.033333  \n",
       "4              2728   both     20.650000  "
      ]
     },
     "execution_count": 36,
     "metadata": {},
     "output_type": "execute_result"
    }
   ],
   "source": [
    "df.head()"
   ]
  },
  {
   "cell_type": "code",
   "execution_count": 71,
   "id": "5c21f7f7",
   "metadata": {},
   "outputs": [
    {
     "name": "stdout",
     "output_type": "stream",
     "text": [
      "start_lat    0\n",
      "start_lng    0\n",
      "end_lat      0\n",
      "end_lng      0\n",
      "dtype: int64\n"
     ]
    }
   ],
   "source": [
    "# Drop rows missing end_lat and end_lng\n",
    "df_cleaned = df.dropna(subset=['end_lat', 'end_lng'])\n",
    "\n",
    "# Replace infinite values with NaN, then drop all rows with NaN\n",
    "df_cleaned = df_cleaned.replace([np.inf, -np.inf], np.nan).dropna(\n",
    "    subset=['start_lat', 'start_lng', 'end_lat', 'end_lng']\n",
    ")\n",
    "\n",
    "print(df_cleaned[['start_lat', 'start_lng', 'end_lat', 'end_lng']].isna().sum())\n"
   ]
  },
  {
   "cell_type": "markdown",
   "id": "068fbca1-8036-41b5-ae4a-df7dddc5560c",
   "metadata": {
    "tags": []
   },
   "source": [
    "## create a new aggregated dataframe that contains 3 columns: starting station, ending station, and the count of trips between those stations."
   ]
  },
  {
   "cell_type": "code",
   "execution_count": 72,
   "id": "c2f1cba7-547d-423c-818a-7056f1ab160a",
   "metadata": {},
   "outputs": [
    {
     "data": {
      "text/html": [
       "<div>\n",
       "<style scoped>\n",
       "    .dataframe tbody tr th:only-of-type {\n",
       "        vertical-align: middle;\n",
       "    }\n",
       "\n",
       "    .dataframe tbody tr th {\n",
       "        vertical-align: top;\n",
       "    }\n",
       "\n",
       "    .dataframe thead th {\n",
       "        text-align: right;\n",
       "    }\n",
       "</style>\n",
       "<table border=\"1\" class=\"dataframe\">\n",
       "  <thead>\n",
       "    <tr style=\"text-align: right;\">\n",
       "      <th></th>\n",
       "      <th>start_station_name</th>\n",
       "      <th>end_station_name</th>\n",
       "      <th>value</th>\n",
       "    </tr>\n",
       "  </thead>\n",
       "  <tbody>\n",
       "    <tr>\n",
       "      <th>0</th>\n",
       "      <td>11 St &amp; Washington St</td>\n",
       "      <td>11 St &amp; Washington St</td>\n",
       "      <td>1132</td>\n",
       "    </tr>\n",
       "    <tr>\n",
       "      <th>1</th>\n",
       "      <td>11 St &amp; Washington St</td>\n",
       "      <td>12 Ave &amp; W 40 St</td>\n",
       "      <td>1</td>\n",
       "    </tr>\n",
       "    <tr>\n",
       "      <th>2</th>\n",
       "      <td>11 St &amp; Washington St</td>\n",
       "      <td>12 St &amp; Sinatra Dr N</td>\n",
       "      <td>253</td>\n",
       "    </tr>\n",
       "    <tr>\n",
       "      <th>3</th>\n",
       "      <td>11 St &amp; Washington St</td>\n",
       "      <td>14 St Ferry - 14 St &amp; Shipyard Ln</td>\n",
       "      <td>395</td>\n",
       "    </tr>\n",
       "    <tr>\n",
       "      <th>4</th>\n",
       "      <td>11 St &amp; Washington St</td>\n",
       "      <td>4 St &amp; Grand St</td>\n",
       "      <td>350</td>\n",
       "    </tr>\n",
       "  </tbody>\n",
       "</table>\n",
       "</div>"
      ],
      "text/plain": [
       "      start_station_name                   end_station_name  value\n",
       "0  11 St & Washington St              11 St & Washington St   1132\n",
       "1  11 St & Washington St                   12 Ave & W 40 St      1\n",
       "2  11 St & Washington St               12 St & Sinatra Dr N    253\n",
       "3  11 St & Washington St  14 St Ferry - 14 St & Shipyard Ln    395\n",
       "4  11 St & Washington St                    4 St & Grand St    350"
      ]
     },
     "execution_count": 72,
     "metadata": {},
     "output_type": "execute_result"
    }
   ],
   "source": [
    "df_cleaned['value'] = 1\n",
    "df_group = df_cleaned.groupby(\n",
    "    ['start_station_name', 'end_station_name']\n",
    ")['value'].count().reset_index()\n",
    "\n",
    "df_group.head()\n"
   ]
  },
  {
   "cell_type": "code",
   "execution_count": 54,
   "id": "a3d231a6-7351-4a3f-a102-90f71ecfb38f",
   "metadata": {},
   "outputs": [
    {
     "name": "stdout",
     "output_type": "stream",
     "text": [
      "892281\n",
      "(895485, 18)\n"
     ]
    }
   ],
   "source": [
    "print(df_group['value'].sum())\n",
    "print(df.shape)"
   ]
  },
  {
   "cell_type": "markdown",
   "id": "69d7f88b-6e52-4012-8917-a858b985e346",
   "metadata": {},
   "source": [
    "As mentioned in the previous task, there were missing values in both end_station_name and end_station_id. This is the reason for the discrepancies in the numbers after aggregation."
   ]
  },
  {
   "cell_type": "code",
   "execution_count": 55,
   "id": "ace8d5db-3d51-483f-b063-ab6122e23b99",
   "metadata": {},
   "outputs": [
    {
     "data": {
      "text/plain": [
       "count    6953.000000\n",
       "mean      128.330361\n",
       "std       304.091182\n",
       "min         1.000000\n",
       "25%         7.000000\n",
       "50%        28.000000\n",
       "75%       118.000000\n",
       "max      5565.000000\n",
       "Name: value, dtype: float64"
      ]
     },
     "execution_count": 55,
     "metadata": {},
     "output_type": "execute_result"
    }
   ],
   "source": [
    "df_group['value'].describe()"
   ]
  },
  {
   "cell_type": "code",
   "execution_count": 74,
   "id": "f5caa761",
   "metadata": {},
   "outputs": [
    {
     "name": "stdout",
     "output_type": "stream",
     "text": [
      "892281\n",
      "(895485, 18)\n"
     ]
    },
    {
     "data": {
      "image/png": "[encoded data removed]",
      "text/plain": [
       "<Figure size 640x480 with 1 Axes>"
      ]
     },
     "metadata": {},
     "output_type": "display_data"
    },
    {
     "data": {
      "image/png": "[encoded data removed]",
      "text/plain": [
       "<Figure size 640x480 with 1 Axes>"
      ]
     },
     "metadata": {},
     "output_type": "display_data"
    }
   ],
   "source": [
    "#Summary Stats\n",
    "\n",
    "print(df_group['value'].sum())\n",
    "print(df.shape)\n",
    "\n",
    "df_group['value'].describe()\n",
    "\n",
    "df_group['value'].hist(bins=100)\n",
    "plt.show()\n",
    "\n",
    "b_plot = df_group.boxplot(column='value') \n",
    "b_plot.plot()\n",
    "\n",
    "df_group['value'].sort_index().value_counts()\n",
    "df_group.to_csv('df_groupby_final.csv')"
   ]
  },
  {
   "cell_type": "code",
   "execution_count": 75,
   "id": "8dfacb41-27dc-450e-bdf7-7a280d457160",
   "metadata": {},
   "outputs": [
    {
     "data": {
      "text/plain": [
       "1       676\n",
       "2       281\n",
       "3       194\n",
       "4       187\n",
       "5       153\n",
       "       ... \n",
       "1021      1\n",
       "1229      1\n",
       "571       1\n",
       "429       1\n",
       "234       1\n",
       "Name: value, Length: 800, dtype: int64"
      ]
     },
     "execution_count": 75,
     "metadata": {},
     "output_type": "execute_result"
    }
   ],
   "source": [
    "df_group['value'].sort_index().value_counts()"
   ]
  },
  {
   "cell_type": "code",
   "execution_count": 79,
   "id": "518edb14",
   "metadata": {},
   "outputs": [],
   "source": [
    "# Add coordinates by merging with original data\n",
    "stations = df_cleaned[['start_station_name', 'start_lat', 'start_lng',\n",
    "                       'end_station_name', 'end_lat', 'end_lng']]\n",
    "\n",
    "# Drop duplicates to get unique coords\n",
    "stations_unique = stations.drop_duplicates(subset=['start_station_name', 'end_station_name'])\n",
    "\n",
    "# Merge to get coords into df_group\n",
    "df_group = df_group.merge(stations_unique, on=['start_station_name', 'end_station_name'], how='left')\n"
   ]
  },
  {
   "cell_type": "code",
   "execution_count": 80,
   "id": "92414711-8140-4fc6-bd83-13ffd256f08a",
   "metadata": {},
   "outputs": [],
   "source": [
    "df_group.to_csv('df_groupby_final.csv')"
   ]
  },
  {
   "cell_type": "code",
   "execution_count": 93,
   "id": "c295c21d-81da-4640-a4b9-2df6e228e651",
   "metadata": {},
   "outputs": [
    {
     "data": {
      "text/html": [
       "<div>\n",
       "<style scoped>\n",
       "    .dataframe tbody tr th:only-of-type {\n",
       "        vertical-align: middle;\n",
       "    }\n",
       "\n",
       "    .dataframe tbody tr th {\n",
       "        vertical-align: top;\n",
       "    }\n",
       "\n",
       "    .dataframe thead th {\n",
       "        text-align: right;\n",
       "    }\n",
       "</style>\n",
       "<table border=\"1\" class=\"dataframe\">\n",
       "  <thead>\n",
       "    <tr style=\"text-align: right;\">\n",
       "      <th></th>\n",
       "      <th>start_station_name</th>\n",
       "      <th>end_station_name</th>\n",
       "      <th>trips</th>\n",
       "      <th>start_lat</th>\n",
       "      <th>start_lon</th>\n",
       "      <th>end_lat</th>\n",
       "      <th>end_lon</th>\n",
       "    </tr>\n",
       "  </thead>\n",
       "  <tbody>\n",
       "    <tr>\n",
       "      <th>0</th>\n",
       "      <td>11 St &amp; Washington St</td>\n",
       "      <td>11 St &amp; Washington St</td>\n",
       "      <td>1132</td>\n",
       "      <td>40.749985</td>\n",
       "      <td>-74.02715</td>\n",
       "      <td>40.749985</td>\n",
       "      <td>-74.027150</td>\n",
       "    </tr>\n",
       "    <tr>\n",
       "      <th>1</th>\n",
       "      <td>11 St &amp; Washington St</td>\n",
       "      <td>12 Ave &amp; W 40 St</td>\n",
       "      <td>1</td>\n",
       "      <td>40.749985</td>\n",
       "      <td>-74.02715</td>\n",
       "      <td>40.760875</td>\n",
       "      <td>-74.002777</td>\n",
       "    </tr>\n",
       "    <tr>\n",
       "      <th>2</th>\n",
       "      <td>11 St &amp; Washington St</td>\n",
       "      <td>12 St &amp; Sinatra Dr N</td>\n",
       "      <td>253</td>\n",
       "      <td>40.749985</td>\n",
       "      <td>-74.02715</td>\n",
       "      <td>40.750604</td>\n",
       "      <td>-74.024020</td>\n",
       "    </tr>\n",
       "    <tr>\n",
       "      <th>3</th>\n",
       "      <td>11 St &amp; Washington St</td>\n",
       "      <td>14 St Ferry - 14 St &amp; Shipyard Ln</td>\n",
       "      <td>395</td>\n",
       "      <td>40.749985</td>\n",
       "      <td>-74.02715</td>\n",
       "      <td>40.752961</td>\n",
       "      <td>-74.024353</td>\n",
       "    </tr>\n",
       "    <tr>\n",
       "      <th>4</th>\n",
       "      <td>11 St &amp; Washington St</td>\n",
       "      <td>4 St &amp; Grand St</td>\n",
       "      <td>350</td>\n",
       "      <td>40.749985</td>\n",
       "      <td>-74.02715</td>\n",
       "      <td>40.742258</td>\n",
       "      <td>-74.035111</td>\n",
       "    </tr>\n",
       "  </tbody>\n",
       "</table>\n",
       "</div>"
      ],
      "text/plain": [
       "      start_station_name                   end_station_name  trips  start_lat  \\\n",
       "0  11 St & Washington St              11 St & Washington St   1132  40.749985   \n",
       "1  11 St & Washington St                   12 Ave & W 40 St      1  40.749985   \n",
       "2  11 St & Washington St               12 St & Sinatra Dr N    253  40.749985   \n",
       "3  11 St & Washington St  14 St Ferry - 14 St & Shipyard Ln    395  40.749985   \n",
       "4  11 St & Washington St                    4 St & Grand St    350  40.749985   \n",
       "\n",
       "   start_lon    end_lat    end_lon  \n",
       "0  -74.02715  40.749985 -74.027150  \n",
       "1  -74.02715  40.760875 -74.002777  \n",
       "2  -74.02715  40.750604 -74.024020  \n",
       "3  -74.02715  40.752961 -74.024353  \n",
       "4  -74.02715  40.742258 -74.035111  "
      ]
     },
     "execution_count": 93,
     "metadata": {},
     "output_type": "execute_result"
    }
   ],
   "source": [
    "df_group.rename(columns = {'value': 'trips', 'start_lng' : 'start_lon','end_lng' : 'end_lon'}, inplace = True)\n",
    "df_group.head()"
   ]
  },
  {
   "cell_type": "markdown",
   "id": "bac573ed-a47c-4522-a066-02dbd483a143",
   "metadata": {},
   "source": [
    "## Initialize an instance of a kepler.gl map"
   ]
  },
  {
   "cell_type": "code",
   "execution_count": 99,
   "id": "d29d8212-b7be-4fc6-b2e8-d100c4eda7fb",
   "metadata": {},
   "outputs": [
    {
     "name": "stdout",
     "output_type": "stream",
     "text": [
      "User Guide: https://docs.kepler.gl/docs/keplergl-jupyter\n"
     ]
    },
    {
     "data": {
      "application/vnd.jupyter.widget-view+json": {
       "model_id": "924971ed69aa412690a5bcf9009b3dbc",
       "version_major": 2,
       "version_minor": 0
      },
      "text/plain": [
       "KeplerGl(data={'data_1':          start_station_name                   end_station_name  trips  \\\n",
       "0     11 St …"
      ]
     },
     "metadata": {},
     "output_type": "display_data"
    }
   ],
   "source": [
    "# Load a map with data and config and height\n",
    "from keplergl import KeplerGl\n",
    "m= KeplerGl(height=700, data={\"data_1\":df_group}, config=config)\n",
    "m\n"
   ]
  },
  {
   "cell_type": "code",
   "execution_count": 100,
   "id": "47e4e38f-6ef2-47d2-aeec-8bedea2a5a4c",
   "metadata": {
    "tags": []
   },
   "outputs": [],
   "source": [
    "config = m.config"
   ]
  },
  {
   "cell_type": "code",
   "execution_count": 101,
   "id": "2c185e31-b3d6-48a0-97da-80949dae80c5",
   "metadata": {
    "tags": []
   },
   "outputs": [
    {
     "data": {
      "text/plain": [
       "{}"
      ]
     },
     "execution_count": 101,
     "metadata": {},
     "output_type": "execute_result"
    }
   ],
   "source": [
    "config"
   ]
  },
  {
   "cell_type": "code",
   "execution_count": 102,
   "id": "1d3b48de-e6ca-4bf1-a20b-82e85530f298",
   "metadata": {},
   "outputs": [],
   "source": [
    "import json\n",
    "with open(\"config.json\", \"w\") as outfile:\n",
    "    json.dump(config, outfile)"
   ]
  },
  {
   "cell_type": "code",
   "execution_count": 98,
   "id": "1359be63-fbd7-44b0-8841-c973ede15ace",
   "metadata": {},
   "outputs": [
    {
     "name": "stdout",
     "output_type": "stream",
     "text": [
      "Map saved to bike_trips_map.html!\n"
     ]
    }
   ],
   "source": [
    "m.save_to_html(file_name='bike_trips_map.html', read_only = False, config = config)"
   ]
  },
  {
   "cell_type": "code",
   "execution_count": null,
   "id": "6904f962",
   "metadata": {},
   "outputs": [],
   "source": []
  }
 ],
 "metadata": {
  "kernelspec": {
   "display_name": "Python (New_York_map)",
   "language": "python",
   "name": "new_york_map"
  },
  "language_info": {
   "codemirror_mode": {
    "name": "ipython",
    "version": 3
   },
   "file_extension": ".py",
   "mimetype": "text/x-python",
   "name": "python",
   "nbconvert_exporter": "python",
   "pygments_lexer": "ipython3",
   "version": "3.9.22"
  }
 },
 "nbformat": 4,
 "nbformat_minor": 5
}
